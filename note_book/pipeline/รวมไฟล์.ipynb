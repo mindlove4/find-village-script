{
 "cells": [
  {
   "cell_type": "code",
   "execution_count": 10,
   "id": "ab0ffd6c",
   "metadata": {
    "scrolled": true
   },
   "outputs": [
    {
     "data": {
      "text/plain": [
       "['bkk_treasury_1.csv',\n",
       " 'bkk_treasury_2.csv',\n",
       " 'bkk_treasury_3.csv',\n",
       " 'clean_bkk_treasury_1.csv',\n",
       " 'clean_bkk_treasury_2.csv']"
      ]
     },
     "execution_count": 10,
     "metadata": {},
     "output_type": "execute_result"
    }
   ],
   "source": [
    "import pandas as pd\n",
    "import os\n",
    "\n",
    "path = r'C:\\Users\\kittisak\\Desktop\\KBTG\\find_village\\data'\n",
    "csv_file = [file for file in os.listdir(path) if file[-4:] == '.csv']\n",
    "csv_file"
   ]
  },
  {
   "cell_type": "code",
   "execution_count": 13,
   "id": "f052b2ce",
   "metadata": {},
   "outputs": [],
   "source": [
    "bkk_treasury = ['bkk_treasury_1.csv',\n",
    "                 'bkk_treasury_2.csv',\n",
    "                 'bkk_treasury_3.csv']\n",
    "\n",
    "clean_bkk_treasury = ['clean_bkk_treasury_1.csv',\n",
    "                      'clean_bkk_treasury_2.csv']"
   ]
  },
  {
   "cell_type": "code",
   "execution_count": 23,
   "id": "ae807423",
   "metadata": {},
   "outputs": [],
   "source": [
    "def combine_csv_file(path,file_list):\n",
    "    start_df= pd.read_csv(os.path.join(path + '/' + file_list[0]))\n",
    "    for file_name in file_list[1:]:\n",
    "        df = pd.read_csv(os.path.join(path + '/' + file_name))\n",
    "        start_df = start_df.append(df,ignore_index = True)\n",
    "    return start_df"
   ]
  },
  {
   "cell_type": "code",
   "execution_count": 24,
   "id": "fc4d8e22",
   "metadata": {},
   "outputs": [
    {
     "name": "stderr",
     "output_type": "stream",
     "text": [
      "C:\\Users\\kittisak\\AppData\\Local\\Temp\\ipykernel_36480\\2472620141.py:5: FutureWarning: The frame.append method is deprecated and will be removed from pandas in a future version. Use pandas.concat instead.\n",
      "  start_df = start_df.append(df,ignore_index = True)\n",
      "C:\\Users\\kittisak\\AppData\\Local\\Temp\\ipykernel_36480\\2472620141.py:5: FutureWarning: The frame.append method is deprecated and will be removed from pandas in a future version. Use pandas.concat instead.\n",
      "  start_df = start_df.append(df,ignore_index = True)\n",
      "C:\\Users\\kittisak\\AppData\\Local\\Temp\\ipykernel_36480\\2472620141.py:5: FutureWarning: The frame.append method is deprecated and will be removed from pandas in a future version. Use pandas.concat instead.\n",
      "  start_df = start_df.append(df,ignore_index = True)\n"
     ]
    }
   ],
   "source": [
    "bkk_treasury_df = combine_csv_file(path,bkk_treasury)\n",
    "clean_bkk_treasury_df = combine_csv_file(path,clean_bkk_treasury)"
   ]
  },
  {
   "cell_type": "code",
   "execution_count": 39,
   "id": "73297d6c",
   "metadata": {
    "scrolled": true
   },
   "outputs": [],
   "source": [
    "bkk_treasury_df.drop('Unnamed: 0',axis = 1).to_csv(os.path.join(path + '/' + 'bkk_treasury.csv'))\n",
    "clean_bkk_treasury_df.drop('Unnamed: 0',axis = 1).to_csv(os.path.join(path + '/' + 'clean_bkk_treasury.csv'))"
   ]
  }
 ],
 "metadata": {
  "kernelspec": {
   "display_name": "Python 3 (ipykernel)",
   "language": "python",
   "name": "python3"
  },
  "language_info": {
   "codemirror_mode": {
    "name": "ipython",
    "version": 3
   },
   "file_extension": ".py",
   "mimetype": "text/x-python",
   "name": "python",
   "nbconvert_exporter": "python",
   "pygments_lexer": "ipython3",
   "version": "3.9.13"
  }
 },
 "nbformat": 4,
 "nbformat_minor": 5
}
